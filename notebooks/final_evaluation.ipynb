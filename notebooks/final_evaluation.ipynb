{
 "cells": [
  {
   "cell_type": "markdown",
   "metadata": {},
   "source": [
    "# Final Evaluation"
   ]
  },
  {
   "cell_type": "code",
   "execution_count": 1,
   "metadata": {},
   "outputs": [],
   "source": [
    "import sys\n",
    "import os\n",
    "\n",
    "# Add the root directory of your project to the Python path\n",
    "project_root = os.path.abspath('C:\\\\Users\\\\barto\\\\Documents\\\\DS2024Z\\\\ISR\\\\ISR-2024W-SudokuSolver')\n",
    "if project_root not in sys.path:\n",
    "    sys.path.append(project_root)"
   ]
  },
  {
   "cell_type": "markdown",
   "metadata": {},
   "source": [
    "### Manual Run"
   ]
  },
  {
   "cell_type": "markdown",
   "metadata": {},
   "source": [
    "1. Select image"
   ]
  },
  {
   "cell_type": "code",
   "execution_count": 2,
   "metadata": {},
   "outputs": [],
   "source": [
    "IMAGE_PATH = \"C:\\\\Users\\\\barto\\\\Documents\\\\DS2024Z\\\\ISR\\\\ISR-2024W-SudokuSolver\\\\src\\\\image129.jpg\""
   ]
  },
  {
   "cell_type": "markdown",
   "metadata": {},
   "source": [
    "2. Run script"
   ]
  },
  {
   "cell_type": "code",
   "execution_count": 3,
   "metadata": {},
   "outputs": [],
   "source": [
    "from src.solve_sudoku_from_image import solve_sudoku_from_image"
   ]
  },
  {
   "cell_type": "code",
   "execution_count": 4,
   "metadata": {},
   "outputs": [
    {
     "name": "stderr",
     "output_type": "stream",
     "text": [
      "C:\\Users\\barto\\Documents\\DS2024Z\\ISR\\ISR-2024W-SudokuSolver\\src\\cnn_arch.py:169: FutureWarning: You are using `torch.load` with `weights_only=False` (the current default value), which uses the default pickle module implicitly. It is possible to construct malicious pickle data which will execute arbitrary code during unpickling (See https://github.com/pytorch/pytorch/blob/main/SECURITY.md#untrusted-models for more details). In a future release, the default value for `weights_only` will be flipped to `True`. This limits the functions that could be executed during unpickling. Arbitrary objects will no longer be allowed to be loaded via this mode unless they are explicitly allowlisted by the user via `torch.serialization.add_safe_globals`. We recommend you start setting `weights_only=True` for any use case where you don't have full control of the loaded file. Please open an issue on GitHub for any issues related to this experimental feature.\n",
      "  model.load_state_dict(torch.load(path, map_location=device))\n"
     ]
    },
    {
     "data": {
      "text/plain": [
       "array([[6, 7, 0, 7, 1, 5, 7, 0, 0],\n",
       "       [7, 7, 7, 3, 7, 7, 7, 7, 7],\n",
       "       [7, 1, 0, 7, 7, 7, 7, 2, 1],\n",
       "       [0, 0, 0, 0, 0, 0, 0, 1, 1],\n",
       "       [1, 6, 2, 0, 5, 1, 0, 1, 9],\n",
       "       [0, 1, 0, 1, 6, 0, 1, 0, 0],\n",
       "       [1, 5, 0, 0, 2, 0, 6, 0, 0],\n",
       "       [0, 0, 0, 0, 0, 0, 3, 1, 0],\n",
       "       [0, 0, 7, 9, 0, 0, 0, 8, 0]])"
      ]
     },
     "execution_count": 4,
     "metadata": {},
     "output_type": "execute_result"
    }
   ],
   "source": [
    "solve_sudoku_from_image(IMAGE_PATH)"
   ]
  },
  {
   "cell_type": "markdown",
   "metadata": {},
   "source": [
    "### Tests"
   ]
  },
  {
   "cell_type": "code",
   "execution_count": 5,
   "metadata": {},
   "outputs": [],
   "source": [
    "from src.evaluate_recognition import evaluate_recognition"
   ]
  },
  {
   "cell_type": "code",
   "execution_count": 6,
   "metadata": {},
   "outputs": [
    {
     "name": "stderr",
     "output_type": "stream",
     "text": [
      "Evaluating Sudoku Boards: 100%|██████████| 560/560 [06:33<00:00,  1.42it/s]\n"
     ]
    },
    {
     "name": "stdout",
     "output_type": "stream",
     "text": [
      "Evaluation Metrics:\n",
      "total_boards: 560\n",
      "fully_correct_boards: 0\n",
      "avg_recognition_per_board: 0.4980599647266314\n",
      "overall_digit_accuracy: 0.4980599647266314\n",
      "total_errors: 22768\n",
      "error_rate: 0.5019400352733686\n"
     ]
    }
   ],
   "source": [
    "dataset_dir = \"../data/sudoku_dataset\"\n",
    "metrics = evaluate_recognition(\n",
    "    dataset_dir=dataset_dir,\n",
    "    read_recognized_func=solve_sudoku_from_image\n",
    ")\n",
    "print(\"Evaluation Metrics:\")\n",
    "for metric, value in metrics.items():\n",
    "    print(f\"{metric}: {value}\")"
   ]
  },
  {
   "cell_type": "code",
   "execution_count": null,
   "metadata": {},
   "outputs": [],
   "source": []
  }
 ],
 "metadata": {
  "kernelspec": {
   "display_name": ".venv",
   "language": "python",
   "name": "python3"
  },
  "language_info": {
   "codemirror_mode": {
    "name": "ipython",
    "version": 3
   },
   "file_extension": ".py",
   "mimetype": "text/x-python",
   "name": "python",
   "nbconvert_exporter": "python",
   "pygments_lexer": "ipython3",
   "version": "3.11.6"
  }
 },
 "nbformat": 4,
 "nbformat_minor": 2
}
