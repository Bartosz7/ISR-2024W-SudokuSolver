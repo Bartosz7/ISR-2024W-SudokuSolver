{
 "cells": [
  {
   "cell_type": "markdown",
   "metadata": {},
   "source": [
    "# Preprocessing blank cells"
   ]
  },
  {
   "cell_type": "markdown",
   "metadata": {},
   "source": [
    "This notebook solely examines multiple techniques for recognition of blank cells.\n",
    "Blank cells should be detected, marked as 0 in the board, and not passed to the digit recognition model."
   ]
  },
  {
   "cell_type": "code",
   "execution_count": 32,
   "metadata": {},
   "outputs": [],
   "source": [
    "import os\n",
    "import cv2\n",
    "import numpy as np\n",
    "from pathlib import Path\n",
    "import uuid"
   ]
  },
  {
   "cell_type": "markdown",
   "metadata": {},
   "source": [
    "## Creating a cell image dataset\n",
    "\n",
    "Subfolder `0` contains blank cells.\n",
    "Other subfolders correspond to their filled values."
   ]
  },
  {
   "cell_type": "code",
   "execution_count": 20,
   "metadata": {},
   "outputs": [],
   "source": [
    "def save_cells_with_labels(cells, labels, output_dir):\n",
    "    if not os.path.exists(output_dir):\n",
    "        os.makedirs(output_dir)\n",
    "\n",
    "    for i, row in enumerate(cells):\n",
    "        for j, cell in enumerate(row):\n",
    "            label = labels[i, j]\n",
    "            label_dir = os.path.join(output_dir, str(label))\n",
    "            if not os.path.exists(label_dir):\n",
    "                os.makedirs(label_dir)\n",
    "\n",
    "            # generate a unique filename using a UUID\n",
    "            unique_id = uuid.uuid4().hex\n",
    "            cell_path = os.path.join(label_dir, f\"image_{unique_id}.png\")\n",
    "            cv2.imwrite(cell_path, cell)"
   ]
  },
  {
   "cell_type": "code",
   "execution_count": 21,
   "metadata": {},
   "outputs": [],
   "source": [
    "def fragment_image(board_image):\n",
    "    \"\"\"Fragments the board image to the individual cells images\"\"\"\n",
    "    cell_height, cell_width = board_image.shape[0] // 9, board_image.shape[1] // 9\n",
    "    cells = []\n",
    "    for i in range(9):\n",
    "        row = []\n",
    "        for j in range(9):\n",
    "            x, y = j * cell_width, i * cell_height\n",
    "            cell = board_image[y:y + cell_height, x:x + cell_width]\n",
    "            row.append(cell)\n",
    "        cells.append(row)\n",
    "    return cells"
   ]
  },
  {
   "cell_type": "code",
   "execution_count": 22,
   "metadata": {},
   "outputs": [],
   "source": [
    "def read_sudoku_from_dat(file_path: Path) -> np.ndarray:\n",
    "    \"\"\"Reads the sudoku board from a .dat file.\"\"\"\n",
    "    with open(file_path, \"r\") as file:\n",
    "        lines = file.readlines()[2:]  # skip camera and img details\n",
    "        board = []\n",
    "        for line in lines:\n",
    "            board.append([int(x) for x in line.split()])\n",
    "        return np.array(board)"
   ]
  },
  {
   "cell_type": "code",
   "execution_count": 7,
   "metadata": {},
   "outputs": [],
   "source": [
    "def fragment_and_save_cells(image_path, dat_path, output_dir):\n",
    "    \"\"\"\n",
    "    Fragment a Sudoku board image into cells and save them with true labels.\n",
    "\n",
    "    Args:\n",
    "        image_path (str): Path to the Sudoku board image.\n",
    "        dat_path (str): Path to the corresponding .dat file containing true labels.\n",
    "        output_dir (str): Directory to save the cell images.\n",
    "    \"\"\"\n",
    "    # load the Sudoku board image\n",
    "    image = cv2.imread(image_path, cv2.IMREAD_GRAYSCALE)\n",
    "\n",
    "    # preprocess the image\n",
    "    binary = cv2.adaptiveThreshold(\n",
    "        image, 255, cv2.ADAPTIVE_THRESH_GAUSSIAN_C, cv2.THRESH_BINARY_INV, 11, 5\n",
    "    )\n",
    "    contours, _ = cv2.findContours(binary, cv2.RETR_EXTERNAL, cv2.CHAIN_APPROX_SIMPLE)\n",
    "\n",
    "    largest_contour = max(contours, key=cv2.contourArea)\n",
    "    x, y, w, h = cv2.boundingRect(largest_contour)\n",
    "    pts1 = np.float32([[x, y], [x + w, y], [x, y + h], [x + w, y + h]])\n",
    "    pts2 = np.float32([[0, 0], [450, 0], [0, 450], [450, 450]])\n",
    "    matrix = cv2.getPerspectiveTransform(pts1, pts2)\n",
    "    warped = cv2.warpPerspective(binary, matrix, (450, 450))\n",
    "\n",
    "    kernel = cv2.getStructuringElement(cv2.MORPH_RECT, (3, 3))\n",
    "    warped = cv2.morphologyEx(warped, cv2.MORPH_OPEN, kernel)\n",
    "    warped = cv2.bitwise_not(warped)\n",
    "\n",
    "    # fragment the image into cells\n",
    "    cells = fragment_image(warped)\n",
    "\n",
    "    # read true labels from the .dat file\n",
    "    labels = read_sudoku_from_dat(dat_path)\n",
    "\n",
    "    # save cells with labels\n",
    "    save_cells_with_labels(cells, labels, output_dir)"
   ]
  },
  {
   "cell_type": "code",
   "execution_count": 8,
   "metadata": {},
   "outputs": [],
   "source": [
    "def create_cell_dataset(dataset_dir, output_dir):\n",
    "    \"\"\"\n",
    "    Create a dataset of fragmented cells with true labels.\n",
    "\n",
    "    Args:\n",
    "        dataset_dir (str): Path to the dataset directory containing board images and .dat files.\n",
    "        output_dir (str): Directory where the cell dataset will be saved.\n",
    "    \"\"\"\n",
    "    for root, _, files in os.walk(dataset_dir):\n",
    "        for file in files:\n",
    "            if file.endswith(\".jpg\"):\n",
    "                image_path = os.path.join(root, file)\n",
    "                dat_path = image_path.replace(\".jpg\", \".dat\")\n",
    "                if os.path.exists(dat_path):\n",
    "                    fragment_and_save_cells(image_path, dat_path, output_dir)\n",
    "                else:\n",
    "                    print(f\"Warning: Missing .dat file for {image_path}\")"
   ]
  },
  {
   "cell_type": "code",
   "execution_count": 11,
   "metadata": {},
   "outputs": [],
   "source": [
    "dataset_dir = \"../data/sudoku_dataset\"\n",
    "output_dir = \"../data/cells\"\n",
    "create_cell_dataset(dataset_dir, output_dir)"
   ]
  },
  {
   "cell_type": "code",
   "execution_count": 33,
   "metadata": {},
   "outputs": [],
   "source": [
    "from pathlib import Path\n",
    "\n",
    "NUM_OF_IMAGES = 560\n",
    "cells_num = sum(1 for _ in Path(output_dir).rglob('*') if _.is_file())\n",
    "assert cells_num == NUM_OF_IMAGES*9*9"
   ]
  },
  {
   "cell_type": "markdown",
   "metadata": {},
   "source": [
    "## Checking the dataset"
   ]
  },
  {
   "cell_type": "code",
   "execution_count": 13,
   "metadata": {},
   "outputs": [
    {
     "name": "stdout",
     "output_type": "stream",
     "text": [
      "Image counts per subfolder:\n",
      "0: 18695\n",
      "1: 2949\n",
      "2: 2940\n",
      "3: 2989\n",
      "4: 2947\n",
      "5: 2943\n",
      "6: 2809\n",
      "7: 2988\n",
      "8: 3101\n",
      "9: 2999\n"
     ]
    }
   ],
   "source": [
    "import os\n",
    "\n",
    "def count_files_in_subfolders(folder_path):\n",
    "    \"\"\"\n",
    "    Count the number of files in each subfolder of a given folder.\n",
    "\n",
    "    Args:\n",
    "        folder_path (str): Path to the folder.\n",
    "\n",
    "    Returns:\n",
    "        dict: A dictionary with subfolder names as keys and file counts as values.\n",
    "    \"\"\"\n",
    "    subfolder_counts = {}\n",
    "    for root, dirs, files in os.walk(folder_path):\n",
    "        if root != folder_path:  # Skip the root folder itself\n",
    "            subfolder_name = os.path.basename(root)\n",
    "            subfolder_counts[subfolder_name] = len(files)\n",
    "    return subfolder_counts\n",
    "\n",
    "# example usage\n",
    "counts = count_files_in_subfolders(output_dir)\n",
    "print(\"Image counts per subfolder:\")\n",
    "for subfolder, count in counts.items():\n",
    "    print(f\"{subfolder}: {count}\")"
   ]
  },
  {
   "cell_type": "markdown",
   "metadata": {},
   "source": [
    "## Exploring methods for blank cell detection"
   ]
  },
  {
   "cell_type": "markdown",
   "metadata": {},
   "source": [
    "### Evaluation Function Preparation"
   ]
  },
  {
   "cell_type": "code",
   "execution_count": 14,
   "metadata": {},
   "outputs": [],
   "source": [
    "from tqdm import tqdm\n",
    "from pathlib import Path\n",
    "from typing import Callable, Dict\n",
    "from sklearn.metrics import precision_score, recall_score, f1_score, accuracy_score\n",
    "import cv2\n",
    "import numpy as np\n",
    "from functools import partial\n",
    "\n",
    "\n",
    "def evaluate_blank_recognition(data_dir: str, recognition_func: Callable, **kwargs) -> Dict[str, float]:\n",
    "    \"\"\"\n",
    "    Evaluate a blank cell recognition function based on the data/cells structure.\n",
    "\n",
    "    Args:\n",
    "        data_dir (str): Path to the data/cells directory containing subfolders (0 for blank, 1-9 for digits).\n",
    "        recognition_func (Callable): Function that takes a cell image and additional parameters (if any) and returns True if it's blank, False otherwise.\n",
    "        **kwargs: Additional parameters for the recognition function.\n",
    "\n",
    "    Returns:\n",
    "        dict: Evaluation metrics (accuracy, precision, recall, F1-score).\n",
    "    \"\"\"\n",
    "    true_labels = []\n",
    "    predictions = []\n",
    "    all_images = list(Path(data_dir).rglob(\"*.png\"))  # Collect all image files\n",
    "\n",
    "    \n",
    "    for image_path in tqdm(all_images, desc=\"Evaluating blank cell recognition\"):\n",
    "        true_label = int(image_path.parent.name == \"0\")  # True if blank (folder \"0\"), else False\n",
    "        cell_image = cv2.imread(str(image_path), cv2.IMREAD_GRAYSCALE)\n",
    "        pred = recognition_func(cell_image, **kwargs)\n",
    "        true_labels.append(true_label)\n",
    "        predictions.append(pred)\n",
    "    \n",
    "    # calculate evaluation metrics\n",
    "    accuracy = accuracy_score(true_labels, predictions)\n",
    "    precision = precision_score(true_labels, predictions)\n",
    "    recall = recall_score(true_labels, predictions)\n",
    "    f1 = f1_score(true_labels, predictions)\n",
    "    \n",
    "    return {\n",
    "        \"accuracy\": accuracy,\n",
    "        \"precision\": precision,\n",
    "        \"recall\": recall,\n",
    "        \"f1_score\": f1\n",
    "    }\n"
   ]
  },
  {
   "cell_type": "code",
   "execution_count": 15,
   "metadata": {},
   "outputs": [],
   "source": [
    "def recognize_blank(cell_image: np.ndarray) -> bool:\n",
    "    \"\"\"\n",
    "    Example blank cell recognition function.\n",
    "    Returns True if the cell is blank, otherwise False.\n",
    "    \"\"\"\n",
    "    pass"
   ]
  },
  {
   "cell_type": "markdown",
   "metadata": {},
   "source": [
    "### A) Mean Intensity"
   ]
  },
  {
   "cell_type": "code",
   "execution_count": 84,
   "metadata": {},
   "outputs": [],
   "source": [
    "def recognize_blank_by_mean_intensity(cell_image: np.ndarray, threshold: int = 200) -> bool:\n",
    "    \"\"\"\n",
    "    Example blank cell recognition function.\n",
    "    Returns True if the cell is blank, otherwise False.\n",
    "    \"\"\"\n",
    "    mean_intensity = np.mean(cell_image)\n",
    "    return mean_intensity > threshold  # Example threshold"
   ]
  },
  {
   "cell_type": "code",
   "execution_count": 85,
   "metadata": {},
   "outputs": [
    {
     "name": "stderr",
     "output_type": "stream",
     "text": [
      "Evaluating blank cell recognition: 100%|██████████| 45360/45360 [03:21<00:00, 224.77it/s]\n",
      "Evaluating blank cell recognition: 100%|██████████| 45360/45360 [00:08<00:00, 5390.07it/s]\n",
      "Evaluating blank cell recognition: 100%|██████████| 45360/45360 [00:08<00:00, 5073.70it/s]\n",
      "Evaluating blank cell recognition: 100%|██████████| 45360/45360 [00:09<00:00, 4837.02it/s]\n",
      "Evaluating blank cell recognition: 100%|██████████| 45360/45360 [00:09<00:00, 4980.98it/s]\n",
      "Evaluating blank cell recognition: 100%|██████████| 45360/45360 [00:09<00:00, 4959.28it/s]\n",
      "Evaluating blank cell recognition: 100%|██████████| 45360/45360 [00:08<00:00, 5596.73it/s]\n",
      "Evaluating blank cell recognition: 100%|██████████| 45360/45360 [00:08<00:00, 5346.78it/s]\n",
      "Evaluating blank cell recognition: 100%|██████████| 45360/45360 [00:08<00:00, 5460.34it/s]\n",
      "Evaluating blank cell recognition: 100%|██████████| 45360/45360 [00:08<00:00, 5647.66it/s]\n",
      "Evaluating blank cell recognition: 100%|██████████| 45360/45360 [00:08<00:00, 5305.42it/s]\n",
      "Evaluating blank cell recognition: 100%|██████████| 45360/45360 [00:07<00:00, 5686.54it/s]\n",
      "Evaluating blank cell recognition: 100%|██████████| 45360/45360 [00:08<00:00, 5535.00it/s]\n",
      "Evaluating blank cell recognition: 100%|██████████| 45360/45360 [00:08<00:00, 5486.25it/s]\n",
      "Evaluating blank cell recognition: 100%|██████████| 45360/45360 [00:08<00:00, 5329.09it/s]\n",
      "Evaluating blank cell recognition: 100%|██████████| 45360/45360 [00:08<00:00, 5301.93it/s]\n",
      "Evaluating blank cell recognition: 100%|██████████| 45360/45360 [00:08<00:00, 5589.63it/s]\n",
      "Evaluating blank cell recognition: 100%|██████████| 45360/45360 [00:08<00:00, 5594.12it/s]\n",
      "Evaluating blank cell recognition: 100%|██████████| 45360/45360 [00:08<00:00, 5492.75it/s]\n",
      "Evaluating blank cell recognition: 100%|██████████| 45360/45360 [00:09<00:00, 4974.03it/s]\n",
      "Evaluating blank cell recognition: 100%|██████████| 45360/45360 [00:08<00:00, 5074.61it/s]\n",
      "100%|██████████| 21/21 [06:26<00:00, 18.41s/it]"
     ]
    },
    {
     "name": "stdout",
     "output_type": "stream",
     "text": [
      "    accuracy  precision    recall  f1_score  threshold\n",
      "0   0.586310   0.384106  0.006205  0.012212        150\n",
      "1   0.586332   0.380623  0.005884  0.011589        155\n",
      "2   0.586508   0.389892  0.005777  0.011385        160\n",
      "3   0.586618   0.393939  0.005563  0.010971        165\n",
      "4   0.586596   0.385542  0.005135  0.010135        170\n",
      "5   0.586684   0.384279  0.004707  0.009300        175\n",
      "6   0.586706   0.377358  0.004279  0.008462        180\n",
      "7   0.586839   0.386139  0.004172  0.008255        185\n",
      "8   0.586927   0.393939  0.004172  0.008257        190\n",
      "9   0.586949   0.395939  0.004172  0.008257        195\n",
      "10  0.586905   0.385027  0.003851  0.007626        200\n",
      "11  0.586971   0.388889  0.003744  0.007417        205\n",
      "12  0.586839   0.358025  0.003102  0.006152        210\n",
      "13  0.586971   0.371795  0.003102  0.006154        215\n",
      "14  0.587081   0.374101  0.002781  0.005522        220\n",
      "15  0.587390   0.410256  0.002568  0.005103        225\n",
      "16  0.587632   0.448980  0.002354  0.004683        230\n",
      "17  0.587676   0.454545  0.002140  0.004259        235\n",
      "18  0.587544   0.405405  0.001605  0.003197        240\n",
      "19  0.587698   0.440678  0.001391  0.002773        245\n",
      "20  0.587875   0.514286  0.000963  0.001922        250\n"
     ]
    },
    {
     "name": "stderr",
     "output_type": "stream",
     "text": [
      "\n"
     ]
    }
   ],
   "source": [
    "import pandas as pd\n",
    "from tqdm import tqdm\n",
    "\n",
    "results = []\n",
    "for threshold in tqdm(range(150, 251, 5)):\n",
    "    metrics = evaluate_blank_recognition(\"../data/cells\", recognize_blank_by_mean_intensity, threshold=threshold)\n",
    "    metrics[\"threshold\"] = threshold\n",
    "    results.append(metrics)\n",
    "\n",
    "\n",
    "results_df = pd.DataFrame(results)\n",
    "results_df.to_csv(\"blank_recognition_scores.csv\", index=False)\n",
    "print(results_df)"
   ]
  },
  {
   "cell_type": "code",
   "execution_count": 86,
   "metadata": {},
   "outputs": [
    {
     "data": {
      "image/png": "[encoded data removed]",
      "text/plain": [
       "<Figure size 640x480 with 1 Axes>"
      ]
     },
     "metadata": {},
     "output_type": "display_data"
    }
   ],
   "source": [
    "import matplotlib.pyplot as plt\n",
    "import pandas as pd\n",
    "\n",
    "plt.plot(results_df[\"threshold\"], results_df[\"f1_score\"], label=\"F1-Score\", marker=\"o\")\n",
    "plt.plot(results_df[\"threshold\"], results_df[\"accuracy\"], label=\"Accuracy\", linestyle=\"--\")\n",
    "plt.plot(results_df[\"threshold\"], results_df[\"precision\"], label=\"Precision\", linestyle=\":\")\n",
    "plt.plot(results_df[\"threshold\"], results_df[\"recall\"], label=\"Recall\", linestyle=\"-.\")\n",
    "plt.xlabel(\"Threshold\")\n",
    "plt.ylabel(\"Score\")\n",
    "plt.title(\"Evaluation Metrics vs. Threshold\")\n",
    "plt.legend()\n",
    "plt.grid(True)\n",
    "\n",
    "# Show the plot\n",
    "plt.show()"
   ]
  },
  {
   "cell_type": "markdown",
   "metadata": {},
   "source": [
    "### B) Non-zero Pixel Count"
   ]
  },
  {
   "cell_type": "code",
   "execution_count": 87,
   "metadata": {},
   "outputs": [],
   "source": [
    "def recognize_blank_by_nonzero_count(cell_image: np.ndarray, pixel_count_threshold: int = 50) -> bool:\n",
    "    \"\"\"\n",
    "    Recognize blank cells based on the number of non-zero pixels.\n",
    "\n",
    "    Args:\n",
    "        cell_image (np.ndarray): Grayscale image of the cell.\n",
    "        pixel_count_threshold (int): Maximum number of non-zero pixels for a blank cell.\n",
    "\n",
    "    Returns:\n",
    "        bool: True if the cell is blank, False otherwise.\n",
    "    \"\"\"\n",
    "    _, binary_image = cv2.threshold(cell_image, 128, 255, cv2.THRESH_BINARY)\n",
    "    non_zero_pixels = cv2.countNonZero(binary_image)\n",
    "    return non_zero_pixels < pixel_count_threshold"
   ]
  },
  {
   "cell_type": "code",
   "execution_count": 88,
   "metadata": {},
   "outputs": [
    {
     "name": "stderr",
     "output_type": "stream",
     "text": [
      "Evaluating blank cell recognition: 100%|██████████| 45360/45360 [00:07<00:00, 6316.16it/s]\n",
      "Evaluating blank cell recognition: 100%|██████████| 45360/45360 [00:07<00:00, 6297.05it/s]\n",
      "Evaluating blank cell recognition: 100%|██████████| 45360/45360 [00:06<00:00, 6487.50it/s]\n",
      "Evaluating blank cell recognition: 100%|██████████| 45360/45360 [00:06<00:00, 6577.52it/s]\n",
      "Evaluating blank cell recognition: 100%|██████████| 45360/45360 [00:07<00:00, 6371.75it/s]\n",
      "Evaluating blank cell recognition: 100%|██████████| 45360/45360 [00:07<00:00, 5990.10it/s]\n",
      "Evaluating blank cell recognition: 100%|██████████| 45360/45360 [00:07<00:00, 5813.16it/s]\n",
      "Evaluating blank cell recognition: 100%|██████████| 45360/45360 [00:06<00:00, 7467.39it/s]\n",
      "Evaluating blank cell recognition: 100%|██████████| 45360/45360 [00:06<00:00, 7484.95it/s]\n",
      "Evaluating blank cell recognition: 100%|██████████| 45360/45360 [00:06<00:00, 7338.45it/s]\n",
      "Evaluating blank cell recognition: 100%|██████████| 45360/45360 [00:06<00:00, 7245.48it/s]\n",
      "Evaluating blank cell recognition: 100%|██████████| 45360/45360 [00:06<00:00, 7370.53it/s]\n",
      "Evaluating blank cell recognition: 100%|██████████| 45360/45360 [00:06<00:00, 7479.85it/s]\n",
      "Evaluating blank cell recognition: 100%|██████████| 45360/45360 [00:06<00:00, 7418.63it/s]\n",
      "Evaluating blank cell recognition: 100%|██████████| 45360/45360 [00:06<00:00, 7330.80it/s]\n",
      "100%|██████████| 15/15 [01:49<00:00,  7.30s/it]"
     ]
    },
    {
     "name": "stdout",
     "output_type": "stream",
     "text": [
      "    accuracy  precision    recall  f1_score  threshold\n",
      "0   0.591887   0.537150  0.070768  0.125059         50\n",
      "1   0.592681   0.541150  0.077026  0.134857         60\n",
      "2   0.593849   0.547091  0.084515  0.146412         70\n",
      "3   0.594863   0.550702  0.092378  0.158215         80\n",
      "4   0.596517   0.558016  0.101097  0.171180         90\n",
      "5   0.598214   0.563893  0.110939  0.185402        100\n",
      "6   0.599118   0.564700  0.119283  0.196962        110\n",
      "7   0.599780   0.563513  0.128377  0.209114        120\n",
      "8   0.601080   0.565531  0.138486  0.222490        130\n",
      "9   0.603373   0.571487  0.150522  0.238283        140\n",
      "10  0.605291   0.574552  0.163038  0.254000        150\n",
      "11  0.607143   0.576499  0.176357  0.270091        160\n",
      "12  0.609700   0.580635  0.190853  0.287279        170\n",
      "13  0.612500   0.584877  0.206044  0.304735        180\n",
      "14  0.614506   0.585587  0.221236  0.321143        190\n"
     ]
    },
    {
     "name": "stderr",
     "output_type": "stream",
     "text": [
      "\n"
     ]
    }
   ],
   "source": [
    "import pandas as pd\n",
    "from tqdm import tqdm\n",
    "\n",
    "results = []\n",
    "for pixel_count_threshold in tqdm(range(50, 200, 10)):\n",
    "    metrics = evaluate_blank_recognition(\"../data/cells\", recognize_blank_by_nonzero_count, \n",
    "                                         pixel_count_threshold=pixel_count_threshold)\n",
    "    metrics[\"threshold\"] = pixel_count_threshold\n",
    "    results.append(metrics)\n",
    "\n",
    "\n",
    "results_df = pd.DataFrame(results)\n",
    "print(results_df)"
   ]
  },
  {
   "cell_type": "markdown",
   "metadata": {},
   "source": [
    "### C) Edge Detection"
   ]
  },
  {
   "cell_type": "code",
   "execution_count": 89,
   "metadata": {},
   "outputs": [],
   "source": [
    "def recognize_blank_by_edges(cell_image: np.ndarray, edge_pixel_threshold: int = 20) -> bool:\n",
    "    \"\"\"\n",
    "    Recognize blank cells based on the number of edge pixels.\n",
    "\n",
    "    Args:\n",
    "        cell_image (np.ndarray): Grayscale image of the cell.\n",
    "        edge_pixel_threshold (int): Maximum number of edge pixels for a blank cell.\n",
    "\n",
    "    Returns:\n",
    "        bool: True if the cell is blank, False otherwise.\n",
    "    \"\"\"\n",
    "    edges = cv2.Canny(cell_image, 50, 150)\n",
    "    edge_pixel_count = np.sum(edges > 0)\n",
    "    return edge_pixel_count < edge_pixel_threshold"
   ]
  },
  {
   "cell_type": "code",
   "execution_count": 90,
   "metadata": {},
   "outputs": [
    {
     "name": "stderr",
     "output_type": "stream",
     "text": [
      "Evaluating blank cell recognition: 100%|██████████| 45360/45360 [00:15<00:00, 2971.10it/s]\n",
      "Evaluating blank cell recognition: 100%|██████████| 45360/45360 [00:16<00:00, 2756.91it/s]\n",
      "Evaluating blank cell recognition: 100%|██████████| 45360/45360 [00:16<00:00, 2706.86it/s]\n",
      "Evaluating blank cell recognition: 100%|██████████| 45360/45360 [00:16<00:00, 2728.08it/s]\n",
      "Evaluating blank cell recognition: 100%|██████████| 45360/45360 [00:16<00:00, 2718.06it/s]\n",
      "Evaluating blank cell recognition: 100%|██████████| 45360/45360 [00:16<00:00, 2720.18it/s]\n",
      "Evaluating blank cell recognition: 100%|██████████| 45360/45360 [00:16<00:00, 2721.52it/s]\n",
      "Evaluating blank cell recognition: 100%|██████████| 45360/45360 [00:16<00:00, 2746.39it/s]\n",
      "Evaluating blank cell recognition: 100%|██████████| 45360/45360 [00:16<00:00, 2713.16it/s]\n",
      "Evaluating blank cell recognition: 100%|██████████| 45360/45360 [00:16<00:00, 2705.66it/s]\n",
      "Evaluating blank cell recognition: 100%|██████████| 45360/45360 [00:16<00:00, 2742.07it/s]\n",
      "Evaluating blank cell recognition: 100%|██████████| 45360/45360 [00:16<00:00, 2725.44it/s]\n",
      "Evaluating blank cell recognition: 100%|██████████| 45360/45360 [00:16<00:00, 2728.18it/s]\n",
      "Evaluating blank cell recognition: 100%|██████████| 45360/45360 [00:16<00:00, 2706.33it/s]\n",
      "Evaluating blank cell recognition: 100%|██████████| 45360/45360 [00:16<00:00, 2714.75it/s]\n",
      "Evaluating blank cell recognition: 100%|██████████| 45360/45360 [00:16<00:00, 2740.51it/s]\n",
      "Evaluating blank cell recognition: 100%|██████████| 45360/45360 [00:16<00:00, 2704.04it/s]\n",
      "Evaluating blank cell recognition: 100%|██████████| 45360/45360 [00:16<00:00, 2730.25it/s]\n",
      "Evaluating blank cell recognition: 100%|██████████| 45360/45360 [00:16<00:00, 2708.46it/s]\n",
      "100%|██████████| 19/19 [05:26<00:00, 17.18s/it]"
     ]
    },
    {
     "name": "stdout",
     "output_type": "stream",
     "text": [
      "    accuracy  precision    recall  f1_score  threshold\n",
      "0   0.588360   0.510426  0.030115  0.056874          5\n",
      "1   0.588316   0.508831  0.032362  0.060853         10\n",
      "2   0.588801   0.516202  0.036641  0.068425         15\n",
      "3   0.589065   0.519217  0.039743  0.073835         20\n",
      "4   0.589264   0.520833  0.042792  0.079087         25\n",
      "5   0.589264   0.519608  0.045360  0.083436         30\n",
      "6   0.589594   0.522610  0.048837  0.089326         35\n",
      "7   0.589925   0.525188  0.052420  0.095326         40\n",
      "8   0.590278   0.528176  0.055148  0.099869         45\n",
      "9   0.589969   0.522923  0.058572  0.105344         50\n",
      "10  0.590366   0.525022  0.063974  0.114051         55\n",
      "11  0.590542   0.525207  0.067986  0.120388         60\n",
      "12  0.590410   0.522692  0.071463  0.125735         65\n",
      "13  0.590234   0.519853  0.075635  0.132057         70\n",
      "14  0.589991   0.516976  0.079005  0.137064         75\n",
      "15  0.590101   0.516699  0.084408  0.145110         80\n",
      "16  0.590190   0.516614  0.088152  0.150605         85\n",
      "17  0.590785   0.519857  0.093127  0.157957         90\n",
      "18  0.591358   0.522325  0.099492  0.167146         95\n"
     ]
    },
    {
     "name": "stderr",
     "output_type": "stream",
     "text": [
      "\n"
     ]
    }
   ],
   "source": [
    "import pandas as pd\n",
    "from tqdm import tqdm\n",
    "\n",
    "results = []\n",
    "for edge_pixel_threshold in tqdm(range(5, 100, 5)):\n",
    "    metrics = evaluate_blank_recognition(\"../data/cells\", recognize_blank_by_edges, \n",
    "                                         edge_pixel_threshold=edge_pixel_threshold)\n",
    "    metrics[\"threshold\"] = edge_pixel_threshold\n",
    "    results.append(metrics)\n",
    "\n",
    "\n",
    "results_df = pd.DataFrame(results)\n",
    "print(results_df)"
   ]
  },
  {
   "cell_type": "markdown",
   "metadata": {},
   "source": [
    "### D2) Image Histogram Analysis"
   ]
  },
  {
   "cell_type": "code",
   "execution_count": 91,
   "metadata": {},
   "outputs": [],
   "source": [
    "import cv2\n",
    "import numpy as np\n",
    "\n",
    "def compute_histogram(cell_image: np.ndarray):\n",
    "    \"\"\"\n",
    "    Compute the normalized histogram of a grayscale image.\n",
    "\n",
    "    Args:\n",
    "        cell_image (np.ndarray): Grayscale image of the cell.\n",
    "\n",
    "    Returns:\n",
    "        np.ndarray: Normalized histogram (256 bins).\n",
    "    \"\"\"\n",
    "    hist = cv2.calcHist([cell_image], [0], None, [256], [0, 256])\n",
    "    hist = hist / hist.sum()  # Normalize to [0, 1]\n",
    "    return hist"
   ]
  },
  {
   "cell_type": "code",
   "execution_count": 92,
   "metadata": {},
   "outputs": [],
   "source": [
    "def analyze_histogram(cell_image: np.ndarray, \n",
    "                      peak_threshold: float = 0.9, \n",
    "                      variance_threshold: float = 10.0):\n",
    "    \"\"\"\n",
    "    Analyze histogram features to classify a cell as blank or non-blank.\n",
    "\n",
    "    Args:\n",
    "        cell_image (np.ndarray): Grayscale image of the cell.\n",
    "        peak_threshold (float): Threshold for peak dominance.\n",
    "        variance_threshold (float): Threshold for histogram variance.\n",
    "\n",
    "    Returns:\n",
    "        bool: True if the cell is blank, False otherwise.\n",
    "    \"\"\"\n",
    "    # Compute the histogram\n",
    "    hist = compute_histogram(cell_image)\n",
    "\n",
    "    # 1. Peak Dominance\n",
    "    peak_dominance = hist.max()\n",
    "    if peak_dominance > peak_threshold:\n",
    "        return True\n",
    "\n",
    "    # 2. Variance of Pixel Intensities\n",
    "    intensity_values = np.arange(256)\n",
    "    mean_intensity = np.sum(intensity_values * hist.flatten())\n",
    "    variance = np.sum((intensity_values - mean_intensity) ** 2 * hist.flatten())\n",
    "    if variance < variance_threshold:\n",
    "        return True\n",
    "\n",
    "    return False\n"
   ]
  },
  {
   "cell_type": "code",
   "execution_count": 93,
   "metadata": {},
   "outputs": [
    {
     "name": "stderr",
     "output_type": "stream",
     "text": [
      "Evaluating blank cell recognition: 100%|██████████| 45360/45360 [00:07<00:00, 6073.10it/s]\n",
      "Evaluating blank cell recognition: 100%|██████████| 45360/45360 [00:07<00:00, 6186.14it/s]\n",
      "Evaluating blank cell recognition: 100%|██████████| 45360/45360 [00:07<00:00, 6394.98it/s]\n",
      "Evaluating blank cell recognition: 100%|██████████| 45360/45360 [00:07<00:00, 6432.71it/s]\n",
      "Evaluating blank cell recognition: 100%|██████████| 45360/45360 [00:07<00:00, 6228.94it/s]\n",
      "Evaluating blank cell recognition: 100%|██████████| 45360/45360 [00:07<00:00, 5982.77it/s]\n",
      "Evaluating blank cell recognition: 100%|██████████| 45360/45360 [00:07<00:00, 6038.95it/s]\n",
      "Evaluating blank cell recognition: 100%|██████████| 45360/45360 [00:07<00:00, 5879.55it/s]\n",
      "Evaluating blank cell recognition: 100%|██████████| 45360/45360 [00:07<00:00, 5695.92it/s]\n",
      "Evaluating blank cell recognition: 100%|██████████| 45360/45360 [00:07<00:00, 5848.70it/s]\n",
      "Evaluating blank cell recognition: 100%|██████████| 45360/45360 [00:07<00:00, 6216.36it/s]\n",
      "Evaluating blank cell recognition: 100%|██████████| 45360/45360 [00:06<00:00, 6518.37it/s]\n",
      "Evaluating blank cell recognition: 100%|██████████| 45360/45360 [00:06<00:00, 6580.66it/s]\n",
      "Evaluating blank cell recognition: 100%|██████████| 45360/45360 [00:07<00:00, 6303.56it/s]\n",
      "Evaluating blank cell recognition: 100%|██████████| 45360/45360 [00:07<00:00, 6023.58it/s]\n",
      "Evaluating blank cell recognition: 100%|██████████| 45360/45360 [00:07<00:00, 5713.03it/s]\n",
      "Evaluating blank cell recognition: 100%|██████████| 45360/45360 [00:07<00:00, 5687.81it/s]\n",
      "Evaluating blank cell recognition: 100%|██████████| 45360/45360 [00:07<00:00, 5975.06it/s]\n",
      "Evaluating blank cell recognition: 100%|██████████| 45360/45360 [00:08<00:00, 5269.25it/s]\n",
      "Evaluating blank cell recognition: 100%|██████████| 45360/45360 [00:08<00:00, 5457.64it/s]\n",
      "Evaluating blank cell recognition: 100%|██████████| 45360/45360 [00:08<00:00, 5374.69it/s]\n",
      "Evaluating blank cell recognition: 100%|██████████| 45360/45360 [00:08<00:00, 5479.89it/s]\n",
      "Evaluating blank cell recognition: 100%|██████████| 45360/45360 [00:08<00:00, 5457.43it/s]\n",
      "Evaluating blank cell recognition: 100%|██████████| 45360/45360 [00:08<00:00, 5368.37it/s]\n",
      "Evaluating blank cell recognition: 100%|██████████| 45360/45360 [00:08<00:00, 5437.74it/s]\n",
      "Evaluating blank cell recognition: 100%|██████████| 45360/45360 [00:08<00:00, 5596.62it/s]\n",
      "Evaluating blank cell recognition: 100%|██████████| 45360/45360 [00:09<00:00, 5015.48it/s]\n",
      "Evaluating blank cell recognition: 100%|██████████| 45360/45360 [00:08<00:00, 5418.51it/s]\n",
      "Evaluating blank cell recognition: 100%|██████████| 45360/45360 [00:07<00:00, 5841.80it/s]\n",
      "Evaluating blank cell recognition: 100%|██████████| 45360/45360 [00:07<00:00, 5921.47it/s]\n",
      "Evaluating blank cell recognition: 100%|██████████| 45360/45360 [00:08<00:00, 5624.19it/s]\n",
      "Evaluating blank cell recognition: 100%|██████████| 45360/45360 [00:09<00:00, 4841.47it/s]\n",
      "Evaluating blank cell recognition: 100%|██████████| 45360/45360 [00:08<00:00, 5160.31it/s]\n",
      "Evaluating blank cell recognition: 100%|██████████| 45360/45360 [00:08<00:00, 5532.44it/s]\n",
      "Evaluating blank cell recognition: 100%|██████████| 45360/45360 [00:07<00:00, 5682.56it/s]\n",
      "Evaluating blank cell recognition: 100%|██████████| 45360/45360 [00:08<00:00, 5489.60it/s]\n",
      "Evaluating blank cell recognition: 100%|██████████| 45360/45360 [00:08<00:00, 5502.20it/s]\n",
      "Evaluating blank cell recognition: 100%|██████████| 45360/45360 [00:08<00:00, 5237.38it/s]\n",
      "Evaluating blank cell recognition: 100%|██████████| 45360/45360 [00:07<00:00, 5703.11it/s]\n",
      "Evaluating blank cell recognition: 100%|██████████| 45360/45360 [00:07<00:00, 5885.10it/s]\n",
      "Evaluating blank cell recognition: 100%|██████████| 45360/45360 [00:08<00:00, 5512.07it/s]\n",
      "Evaluating blank cell recognition: 100%|██████████| 45360/45360 [00:07<00:00, 5695.44it/s]\n",
      "Evaluating blank cell recognition: 100%|██████████| 45360/45360 [00:08<00:00, 5463.87it/s]\n",
      "Evaluating blank cell recognition: 100%|██████████| 45360/45360 [00:10<00:00, 4452.32it/s]\n",
      "Evaluating blank cell recognition: 100%|██████████| 45360/45360 [00:10<00:00, 4466.95it/s]\n",
      "Evaluating blank cell recognition: 100%|██████████| 45360/45360 [00:10<00:00, 4449.07it/s]\n",
      "Evaluating blank cell recognition: 100%|██████████| 45360/45360 [00:10<00:00, 4244.63it/s]\n",
      "Evaluating blank cell recognition: 100%|██████████| 45360/45360 [00:10<00:00, 4196.65it/s]\n",
      "Evaluating blank cell recognition: 100%|██████████| 45360/45360 [00:09<00:00, 4854.11it/s]\n",
      "Evaluating blank cell recognition: 100%|██████████| 45360/45360 [00:09<00:00, 4893.21it/s]\n",
      "Evaluating blank cell recognition: 100%|██████████| 45360/45360 [00:08<00:00, 5422.88it/s]\n",
      "Evaluating blank cell recognition: 100%|██████████| 45360/45360 [00:08<00:00, 5156.39it/s]\n",
      "Evaluating blank cell recognition: 100%|██████████| 45360/45360 [00:08<00:00, 5620.84it/s]\n",
      "Evaluating blank cell recognition: 100%|██████████| 45360/45360 [00:08<00:00, 5185.36it/s]\n",
      "Evaluating blank cell recognition: 100%|██████████| 45360/45360 [00:08<00:00, 5320.69it/s]\n",
      "Evaluating blank cell recognition: 100%|██████████| 45360/45360 [00:08<00:00, 5280.08it/s]\n",
      "Evaluating blank cell recognition: 100%|██████████| 45360/45360 [00:08<00:00, 5416.01it/s]\n",
      "Evaluating blank cell recognition: 100%|██████████| 45360/45360 [00:08<00:00, 5265.77it/s]\n",
      "Evaluating blank cell recognition: 100%|██████████| 45360/45360 [00:08<00:00, 5321.93it/s]\n",
      "Evaluating blank cell recognition: 100%|██████████| 45360/45360 [00:08<00:00, 5495.01it/s]\n",
      "Evaluating blank cell recognition: 100%|██████████| 45360/45360 [00:08<00:00, 5296.35it/s]\n",
      "Evaluating blank cell recognition: 100%|██████████| 45360/45360 [00:08<00:00, 5200.43it/s]\n",
      "Evaluating blank cell recognition: 100%|██████████| 45360/45360 [00:08<00:00, 5333.78it/s]\n",
      "Evaluating blank cell recognition: 100%|██████████| 45360/45360 [00:09<00:00, 4978.81it/s]\n",
      "Evaluating blank cell recognition: 100%|██████████| 45360/45360 [00:08<00:00, 5191.73it/s]\n",
      "Evaluating blank cell recognition: 100%|██████████| 45360/45360 [00:08<00:00, 5329.19it/s]\n",
      "Evaluating blank cell recognition: 100%|██████████| 45360/45360 [00:08<00:00, 5102.81it/s]\n",
      "Evaluating blank cell recognition: 100%|██████████| 45360/45360 [00:08<00:00, 5141.22it/s]\n",
      "Evaluating blank cell recognition: 100%|██████████| 45360/45360 [00:08<00:00, 5261.41it/s]\n",
      "Evaluating blank cell recognition: 100%|██████████| 45360/45360 [00:08<00:00, 5178.40it/s]\n",
      "Evaluating blank cell recognition: 100%|██████████| 45360/45360 [00:09<00:00, 4902.16it/s]\n",
      "Evaluating blank cell recognition: 100%|██████████| 45360/45360 [00:08<00:00, 5320.79it/s]\n",
      "Evaluating blank cell recognition: 100%|██████████| 45360/45360 [00:08<00:00, 5227.91it/s]\n",
      "Evaluating blank cell recognition: 100%|██████████| 45360/45360 [00:09<00:00, 4584.94it/s]\n",
      "Evaluating blank cell recognition: 100%|██████████| 45360/45360 [00:08<00:00, 5129.35it/s]\n",
      "Evaluating blank cell recognition: 100%|██████████| 45360/45360 [00:08<00:00, 5204.17it/s]\n",
      "Evaluating blank cell recognition: 100%|██████████| 45360/45360 [00:08<00:00, 5367.56it/s]\n",
      "Evaluating blank cell recognition: 100%|██████████| 45360/45360 [00:08<00:00, 5447.90it/s]\n",
      "Evaluating blank cell recognition: 100%|██████████| 45360/45360 [00:07<00:00, 6001.76it/s]\n",
      "Evaluating blank cell recognition: 100%|██████████| 45360/45360 [00:07<00:00, 6035.23it/s]\n"
     ]
    },
    {
     "name": "stdout",
     "output_type": "stream",
     "text": [
      "    accuracy  precision    recall  f1_score  peak_threshold  var_threshold\n",
      "0   0.487897   0.443166  0.945547  0.603486           0.700            5.0\n",
      "1   0.487897   0.443166  0.945547  0.603486           0.700            7.5\n",
      "2   0.487897   0.443166  0.945547  0.603486           0.700           10.0\n",
      "3   0.487897   0.443166  0.945547  0.603486           0.700           12.5\n",
      "4   0.487897   0.443166  0.945547  0.603486           0.700           15.0\n",
      "..       ...        ...       ...       ...             ...            ...\n",
      "75  0.598104   0.564138  0.109388  0.183244           0.925           12.5\n",
      "76  0.598104   0.564138  0.109388  0.183244           0.925           15.0\n",
      "77  0.598104   0.564138  0.109388  0.183244           0.925           17.5\n",
      "78  0.598104   0.564138  0.109388  0.183244           0.925           20.0\n",
      "79  0.598104   0.564138  0.109388  0.183244           0.925           22.5\n",
      "\n",
      "[80 rows x 6 columns]\n"
     ]
    }
   ],
   "source": [
    "import pandas as pd\n",
    "from tqdm import tqdm\n",
    "\n",
    "results = []\n",
    "for peak_threshold in np.arange(0.7, 0.95, 0.025):\n",
    "    for var_threshold in np.arange(5.0, 25.0, 2.5):\n",
    "        metrics = evaluate_blank_recognition(\"../data/cells\", analyze_histogram,\n",
    "                                            peak_threshold = peak_threshold, \n",
    "                                            variance_threshold = var_threshold)\n",
    "        metrics[\"peak_threshold\"] = peak_threshold\n",
    "        metrics[\"var_threshold\"] = var_threshold\n",
    "        results.append(metrics)\n",
    "\n",
    "results_df = pd.DataFrame(results)\n",
    "print(results_df)"
   ]
  },
  {
   "cell_type": "code",
   "execution_count": 98,
   "metadata": {},
   "outputs": [
    {
     "data": {
      "text/html": [
       "<div>\n",
       "<style scoped>\n",
       "    .dataframe tbody tr th:only-of-type {\n",
       "        vertical-align: middle;\n",
       "    }\n",
       "\n",
       "    .dataframe tbody tr th {\n",
       "        vertical-align: top;\n",
       "    }\n",
       "\n",
       "    .dataframe thead th {\n",
       "        text-align: right;\n",
       "    }\n",
       "</style>\n",
       "<table border=\"1\" class=\"dataframe\">\n",
       "  <thead>\n",
       "    <tr style=\"text-align: right;\">\n",
       "      <th></th>\n",
       "      <th>accuracy</th>\n",
       "      <th>precision</th>\n",
       "      <th>recall</th>\n",
       "      <th>f1_score</th>\n",
       "      <th>peak_threshold</th>\n",
       "      <th>var_threshold</th>\n",
       "    </tr>\n",
       "  </thead>\n",
       "  <tbody>\n",
       "    <tr>\n",
       "      <th>32</th>\n",
       "      <td>0.733554</td>\n",
       "      <td>0.655455</td>\n",
       "      <td>0.745279</td>\n",
       "      <td>0.697487</td>\n",
       "      <td>0.8</td>\n",
       "      <td>5.0</td>\n",
       "    </tr>\n",
       "    <tr>\n",
       "      <th>33</th>\n",
       "      <td>0.733554</td>\n",
       "      <td>0.655455</td>\n",
       "      <td>0.745279</td>\n",
       "      <td>0.697487</td>\n",
       "      <td>0.8</td>\n",
       "      <td>7.5</td>\n",
       "    </tr>\n",
       "    <tr>\n",
       "      <th>34</th>\n",
       "      <td>0.733554</td>\n",
       "      <td>0.655455</td>\n",
       "      <td>0.745279</td>\n",
       "      <td>0.697487</td>\n",
       "      <td>0.8</td>\n",
       "      <td>10.0</td>\n",
       "    </tr>\n",
       "    <tr>\n",
       "      <th>35</th>\n",
       "      <td>0.733554</td>\n",
       "      <td>0.655455</td>\n",
       "      <td>0.745279</td>\n",
       "      <td>0.697487</td>\n",
       "      <td>0.8</td>\n",
       "      <td>12.5</td>\n",
       "    </tr>\n",
       "    <tr>\n",
       "      <th>36</th>\n",
       "      <td>0.733554</td>\n",
       "      <td>0.655455</td>\n",
       "      <td>0.745279</td>\n",
       "      <td>0.697487</td>\n",
       "      <td>0.8</td>\n",
       "      <td>15.0</td>\n",
       "    </tr>\n",
       "    <tr>\n",
       "      <th>...</th>\n",
       "      <td>...</td>\n",
       "      <td>...</td>\n",
       "      <td>...</td>\n",
       "      <td>...</td>\n",
       "      <td>...</td>\n",
       "      <td>...</td>\n",
       "    </tr>\n",
       "    <tr>\n",
       "      <th>3</th>\n",
       "      <td>0.487897</td>\n",
       "      <td>0.443166</td>\n",
       "      <td>0.945547</td>\n",
       "      <td>0.603486</td>\n",
       "      <td>0.7</td>\n",
       "      <td>12.5</td>\n",
       "    </tr>\n",
       "    <tr>\n",
       "      <th>4</th>\n",
       "      <td>0.487897</td>\n",
       "      <td>0.443166</td>\n",
       "      <td>0.945547</td>\n",
       "      <td>0.603486</td>\n",
       "      <td>0.7</td>\n",
       "      <td>15.0</td>\n",
       "    </tr>\n",
       "    <tr>\n",
       "      <th>5</th>\n",
       "      <td>0.487897</td>\n",
       "      <td>0.443166</td>\n",
       "      <td>0.945547</td>\n",
       "      <td>0.603486</td>\n",
       "      <td>0.7</td>\n",
       "      <td>17.5</td>\n",
       "    </tr>\n",
       "    <tr>\n",
       "      <th>6</th>\n",
       "      <td>0.487897</td>\n",
       "      <td>0.443166</td>\n",
       "      <td>0.945547</td>\n",
       "      <td>0.603486</td>\n",
       "      <td>0.7</td>\n",
       "      <td>20.0</td>\n",
       "    </tr>\n",
       "    <tr>\n",
       "      <th>7</th>\n",
       "      <td>0.487897</td>\n",
       "      <td>0.443166</td>\n",
       "      <td>0.945547</td>\n",
       "      <td>0.603486</td>\n",
       "      <td>0.7</td>\n",
       "      <td>22.5</td>\n",
       "    </tr>\n",
       "  </tbody>\n",
       "</table>\n",
       "<p>80 rows × 6 columns</p>\n",
       "</div>"
      ],
      "text/plain": [
       "    accuracy  precision    recall  f1_score  peak_threshold  var_threshold\n",
       "32  0.733554   0.655455  0.745279  0.697487             0.8            5.0\n",
       "33  0.733554   0.655455  0.745279  0.697487             0.8            7.5\n",
       "34  0.733554   0.655455  0.745279  0.697487             0.8           10.0\n",
       "35  0.733554   0.655455  0.745279  0.697487             0.8           12.5\n",
       "36  0.733554   0.655455  0.745279  0.697487             0.8           15.0\n",
       "..       ...        ...       ...       ...             ...            ...\n",
       "3   0.487897   0.443166  0.945547  0.603486             0.7           12.5\n",
       "4   0.487897   0.443166  0.945547  0.603486             0.7           15.0\n",
       "5   0.487897   0.443166  0.945547  0.603486             0.7           17.5\n",
       "6   0.487897   0.443166  0.945547  0.603486             0.7           20.0\n",
       "7   0.487897   0.443166  0.945547  0.603486             0.7           22.5\n",
       "\n",
       "[80 rows x 6 columns]"
      ]
     },
     "execution_count": 98,
     "metadata": {},
     "output_type": "execute_result"
    }
   ],
   "source": [
    "sorted_results_df = results_df.sort_values(by=[\"accuracy\", \"f1_score\"], ascending=[False, False])\n",
    "sorted_results_df"
   ]
  },
  {
   "cell_type": "code",
   "execution_count": 95,
   "metadata": {},
   "outputs": [],
   "source": [
    "import matplotlib.pyplot as plt\n",
    "\n",
    "def visualize_histogram(cell_image: np.ndarray):\n",
    "    \"\"\"\n",
    "    Visualize the histogram of a grayscale cell image.\n",
    "\n",
    "    Args:\n",
    "        cell_image (np.ndarray): Grayscale image of the cell.\n",
    "    \"\"\"\n",
    "    hist = compute_histogram(cell_image)\n",
    "    plt.figure(figsize=(4,2))\n",
    "    plt.bar(range(256), hist.flatten(), width=1.0, color=\"blue\", alpha=0.7)\n",
    "    plt.title(\"Histogram of Pixel Intensities\")\n",
    "    plt.xlabel(\"Pixel Intensity\")\n",
    "    plt.ylabel(\"Proportion of Pixels\")\n",
    "    plt.show()"
   ]
  },
  {
   "cell_type": "code",
   "execution_count": 96,
   "metadata": {},
   "outputs": [
    {
     "name": "stderr",
     "output_type": "stream",
     "text": [
      "C:\\Users\\barto\\AppData\\Local\\Temp\\ipykernel_4576\\3928081196.py:15: RuntimeWarning: invalid value encountered in divide\n",
      "  hist = hist / hist.sum()  # Normalize to [0, 1]\n"
     ]
    },
    {
     "data": {
      "image/png": "[encoded data removed]",
      "text/plain": [
       "<Figure size 400x200 with 1 Axes>"
      ]
     },
     "metadata": {},
     "output_type": "display_data"
    }
   ],
   "source": [
    "# Example usage\n",
    "cell_image = cv2.imread(\"../data/cells/0/image_0a0bd90e12154009bfaa0f67ad88af08.png\", cv2.IMREAD_GRAYSCALE)\n",
    "visualize_histogram(cell_image)"
   ]
  },
  {
   "cell_type": "code",
   "execution_count": 97,
   "metadata": {},
   "outputs": [
    {
     "name": "stderr",
     "output_type": "stream",
     "text": [
      "C:\\Users\\barto\\AppData\\Local\\Temp\\ipykernel_4576\\3928081196.py:15: RuntimeWarning: invalid value encountered in divide\n",
      "  hist = hist / hist.sum()  # Normalize to [0, 1]\n"
     ]
    },
    {
     "data": {
      "image/png": "[encoded data removed]",
      "text/plain": [
       "<Figure size 400x200 with 1 Axes>"
      ]
     },
     "metadata": {},
     "output_type": "display_data"
    }
   ],
   "source": [
    "# Example usage\n",
    "cell_image = cv2.imread(\"../data/cells/1/image_0a2f8fa73d3a4639826d28aae8acba47.png.png\", cv2.IMREAD_GRAYSCALE)\n",
    "visualize_histogram(cell_image)"
   ]
  },
  {
   "cell_type": "markdown",
   "metadata": {},
   "source": [
    "### D) Classification Models based on Computed Image Features"
   ]
  },
  {
   "cell_type": "markdown",
   "metadata": {},
   "source": [
    "Feature Extraction"
   ]
  },
  {
   "cell_type": "code",
   "execution_count": 99,
   "metadata": {},
   "outputs": [],
   "source": [
    "import cv2\n",
    "import numpy as np\n",
    "from typing import List\n",
    "\n",
    "def extract_features(cell_image: np.ndarray) -> List[float]:\n",
    "    \"\"\"\n",
    "    Extract features from a cell image.\n",
    "\n",
    "    Args:\n",
    "        cell_image (np.ndarray): Grayscale image of the cell.\n",
    "\n",
    "    Returns:\n",
    "        List[float]: A list of extracted features.\n",
    "    \"\"\"\n",
    "    features = []\n",
    "\n",
    "    # 1. Mean Intensity\n",
    "    mean_intensity = np.mean(cell_image)\n",
    "    features.append(mean_intensity)\n",
    "\n",
    "    # 2. Non-Zero Pixel Count\n",
    "    _, binary_image = cv2.threshold(cell_image, 128, 255, cv2.THRESH_BINARY)\n",
    "    non_zero_pixel_count = cv2.countNonZero(binary_image)\n",
    "    features.append(non_zero_pixel_count)\n",
    "\n",
    "    # 3. Edge Pixel Count\n",
    "    edges = cv2.Canny(cell_image, 50, 150)\n",
    "    edge_pixel_count = np.sum(edges > 0)\n",
    "    features.append(edge_pixel_count)\n",
    "\n",
    "    # 4. Contour Area\n",
    "    _, binary_inv = cv2.threshold(cell_image, 0, 255, cv2.THRESH_BINARY_INV + cv2.THRESH_OTSU)\n",
    "    contours, _ = cv2.findContours(binary_inv, cv2.RETR_EXTERNAL, cv2.CHAIN_APPROX_SIMPLE)\n",
    "    if contours:\n",
    "        largest_contour_area = max(cv2.contourArea(cnt) for cnt in contours)\n",
    "    else:\n",
    "        largest_contour_area = 0\n",
    "    features.append(largest_contour_area)\n",
    "\n",
    "    return features\n"
   ]
  },
  {
   "cell_type": "code",
   "execution_count": 100,
   "metadata": {},
   "outputs": [],
   "source": [
    "from pathlib import Path\n",
    "\n",
    "def prepare_dataset(data_dir: str):\n",
    "    \"\"\"\n",
    "    Prepare the dataset by extracting features and labels.\n",
    "\n",
    "    Args:\n",
    "        data_dir (str): Path to the data/cells directory.\n",
    "\n",
    "    Returns:\n",
    "        tuple: (X, y), where X is the feature matrix and y is the label vector.\n",
    "    \"\"\"\n",
    "    X = []\n",
    "    y = []\n",
    "\n",
    "    for label_dir in Path(data_dir).iterdir():\n",
    "        if label_dir.is_dir():\n",
    "            # label is 0 for blank cells, 1 for non-blank cells\n",
    "            label = int(label_dir.name != \"0\")\n",
    "\n",
    "            # iterate over cell images in the subdirectory\n",
    "            for image_path in label_dir.glob(\"*.png\"):\n",
    "                cell_image = cv2.imread(str(image_path), cv2.IMREAD_GRAYSCALE)\n",
    "                features = extract_features(cell_image)\n",
    "                X.append(features)\n",
    "                y.append(label)\n",
    "    \n",
    "    return np.array(X), np.array(y)"
   ]
  },
  {
   "cell_type": "markdown",
   "metadata": {},
   "source": [
    "Logistic Regression"
   ]
  },
  {
   "cell_type": "code",
   "execution_count": 101,
   "metadata": {},
   "outputs": [
    {
     "name": "stdout",
     "output_type": "stream",
     "text": [
      "Dataset ready. Training model...Finished\n",
      "Classification Report:\n",
      "              precision    recall  f1-score   support\n",
      "\n",
      "           0       0.64      0.53      0.58      3721\n",
      "           1       0.71      0.80      0.75      5351\n",
      "\n",
      "    accuracy                           0.69      9072\n",
      "   macro avg       0.68      0.66      0.67      9072\n",
      "weighted avg       0.68      0.69      0.68      9072\n",
      "\n"
     ]
    }
   ],
   "source": [
    "from sklearn.linear_model import LogisticRegression\n",
    "from sklearn.model_selection import train_test_split\n",
    "from sklearn.metrics import classification_report\n",
    "\n",
    "# prepare the dataset\n",
    "data_dir = \"../data/cells\"\n",
    "X, y = prepare_dataset(data_dir)\n",
    "print(\"Dataset ready. Training model...\", end=\"\")\n",
    "X_train, X_test, y_train, y_test = train_test_split(X, y, test_size=0.2, random_state=42)\n",
    "\n",
    "# train the logistic regression classifier\n",
    "clf = LogisticRegression(max_iter=1000, random_state=42)\n",
    "clf.fit(X_train, y_train)\n",
    "print(\"Finished\")\n",
    "\n",
    "# make predictions\n",
    "y_pred = clf.predict(X_test)\n",
    "\n",
    "# evaluate the classifier\n",
    "print(\"Classification Report:\")\n",
    "print(classification_report(y_test, y_pred))"
   ]
  },
  {
   "cell_type": "markdown",
   "metadata": {},
   "source": [
    "Support Vector Classifier"
   ]
  },
  {
   "cell_type": "code",
   "execution_count": 102,
   "metadata": {},
   "outputs": [
    {
     "name": "stdout",
     "output_type": "stream",
     "text": [
      "SVM Classification Report:\n",
      "              precision    recall  f1-score   support\n",
      "\n",
      "           0       0.71      0.79      0.75      3721\n",
      "           1       0.84      0.77      0.81      5351\n",
      "\n",
      "    accuracy                           0.78      9072\n",
      "   macro avg       0.78      0.78      0.78      9072\n",
      "weighted avg       0.79      0.78      0.78      9072\n",
      "\n"
     ]
    }
   ],
   "source": [
    "from sklearn.svm import SVC\n",
    "\n",
    "# train the SVM classifier\n",
    "svm_clf = SVC(kernel=\"rbf\", C=1.0, gamma=\"scale\", random_state=42)  # RBF kernel is good for non-linear problems\n",
    "svm_clf.fit(X_train, y_train)\n",
    "y_pred = svm_clf.predict(X_test)\n",
    "print(\"SVM Classification Report:\")\n",
    "print(classification_report(y_test, y_pred))"
   ]
  },
  {
   "cell_type": "markdown",
   "metadata": {},
   "source": [
    "Random Forest Classifier"
   ]
  },
  {
   "cell_type": "code",
   "execution_count": 103,
   "metadata": {},
   "outputs": [
    {
     "name": "stdout",
     "output_type": "stream",
     "text": [
      "Classification Report:\n",
      "              precision    recall  f1-score   support\n",
      "\n",
      "           0       0.82      0.90      0.86      3721\n",
      "           1       0.93      0.86      0.89      5351\n",
      "\n",
      "    accuracy                           0.88      9072\n",
      "   macro avg       0.87      0.88      0.88      9072\n",
      "weighted avg       0.88      0.88      0.88      9072\n",
      "\n"
     ]
    }
   ],
   "source": [
    "from sklearn.ensemble import RandomForestClassifier\n",
    "\n",
    "\n",
    "# train the logistic regression classifier\n",
    "clf = RandomForestClassifier(random_state=42)\n",
    "clf.fit(X_train, y_train)\n",
    "y_pred = clf.predict(X_test)\n",
    "print(\"Classification Report:\")\n",
    "print(classification_report(y_test, y_pred))"
   ]
  },
  {
   "cell_type": "markdown",
   "metadata": {},
   "source": [
    "Neural Network"
   ]
  },
  {
   "cell_type": "code",
   "execution_count": 104,
   "metadata": {},
   "outputs": [
    {
     "name": "stdout",
     "output_type": "stream",
     "text": [
      "Epoch 1/50, Loss: 58.2535\n",
      "Epoch 2/50, Loss: 58.1487\n",
      "Epoch 3/50, Loss: 57.1779\n",
      "Epoch 4/50, Loss: 61.3957\n",
      "Epoch 5/50, Loss: 60.8513\n",
      "Epoch 6/50, Loss: 58.8542\n",
      "Epoch 7/50, Loss: 58.8542\n",
      "Epoch 8/50, Loss: 55.5816\n",
      "Epoch 9/50, Loss: 58.1914\n",
      "Epoch 10/50, Loss: 56.5767\n",
      "Epoch 11/50, Loss: 54.5015\n",
      "Epoch 12/50, Loss: 59.8958\n",
      "Epoch 13/50, Loss: 62.8247\n",
      "Epoch 14/50, Loss: 58.3333\n",
      "Epoch 15/50, Loss: 64.4566\n",
      "Epoch 16/50, Loss: 57.2303\n",
      "Epoch 17/50, Loss: 60.3542\n",
      "Epoch 18/50, Loss: 53.5499\n",
      "Epoch 19/50, Loss: 58.2525\n",
      "Epoch 20/50, Loss: 53.5630\n",
      "Epoch 21/50, Loss: 58.7766\n",
      "Epoch 22/50, Loss: 56.2500\n",
      "Epoch 23/50, Loss: 64.0625\n",
      "Epoch 24/50, Loss: 61.3599\n",
      "Epoch 25/50, Loss: 61.7939\n",
      "Epoch 26/50, Loss: 56.9525\n",
      "Epoch 27/50, Loss: 57.2044\n",
      "Epoch 28/50, Loss: 63.9817\n",
      "Epoch 29/50, Loss: 65.4729\n",
      "Epoch 30/50, Loss: 55.6601\n",
      "Epoch 31/50, Loss: 56.1409\n",
      "Epoch 32/50, Loss: 61.3639\n",
      "Epoch 33/50, Loss: 67.1224\n",
      "Epoch 34/50, Loss: 66.6667\n",
      "Epoch 35/50, Loss: 54.9667\n",
      "Epoch 36/50, Loss: 58.8542\n",
      "Epoch 37/50, Loss: 61.3801\n",
      "Epoch 38/50, Loss: 59.8000\n",
      "Epoch 39/50, Loss: 59.3750\n",
      "Epoch 40/50, Loss: 55.0341\n",
      "Epoch 41/50, Loss: 56.0678\n",
      "Epoch 42/50, Loss: 63.9196\n",
      "Epoch 43/50, Loss: 56.1883\n",
      "Epoch 44/50, Loss: 64.4090\n",
      "Epoch 45/50, Loss: 53.5273\n",
      "Epoch 46/50, Loss: 57.6779\n",
      "Epoch 47/50, Loss: 63.0208\n",
      "Epoch 48/50, Loss: 61.8953\n",
      "Epoch 49/50, Loss: 55.2083\n",
      "Epoch 50/50, Loss: 58.8542\n",
      "Neural Network Classification Report:\n",
      "              precision    recall  f1-score   support\n",
      "\n",
      "         0.0       0.41      1.00      0.58      3718\n",
      "         1.0       0.00      0.00      0.00      5354\n",
      "\n",
      "    accuracy                           0.41      9072\n",
      "   macro avg       0.20      0.50      0.29      9072\n",
      "weighted avg       0.17      0.41      0.24      9072\n",
      "\n"
     ]
    },
    {
     "name": "stderr",
     "output_type": "stream",
     "text": [
      "c:\\Users\\barto\\Documents\\DS2024Z\\ISR\\ISR-2024W-SudokuSolver\\isrenv\\Lib\\site-packages\\sklearn\\metrics\\_classification.py:1565: UndefinedMetricWarning: Precision is ill-defined and being set to 0.0 in labels with no predicted samples. Use `zero_division` parameter to control this behavior.\n",
      "  _warn_prf(average, modifier, f\"{metric.capitalize()} is\", len(result))\n",
      "c:\\Users\\barto\\Documents\\DS2024Z\\ISR\\ISR-2024W-SudokuSolver\\isrenv\\Lib\\site-packages\\sklearn\\metrics\\_classification.py:1565: UndefinedMetricWarning: Precision is ill-defined and being set to 0.0 in labels with no predicted samples. Use `zero_division` parameter to control this behavior.\n",
      "  _warn_prf(average, modifier, f\"{metric.capitalize()} is\", len(result))\n",
      "c:\\Users\\barto\\Documents\\DS2024Z\\ISR\\ISR-2024W-SudokuSolver\\isrenv\\Lib\\site-packages\\sklearn\\metrics\\_classification.py:1565: UndefinedMetricWarning: Precision is ill-defined and being set to 0.0 in labels with no predicted samples. Use `zero_division` parameter to control this behavior.\n",
      "  _warn_prf(average, modifier, f\"{metric.capitalize()} is\", len(result))\n"
     ]
    }
   ],
   "source": [
    "import torch\n",
    "import torch.nn as nn\n",
    "import torch.optim as optim\n",
    "from torch.utils.data import DataLoader, TensorDataset\n",
    "\n",
    "# prepare the dataset for PyTorch\n",
    "X_tensor = torch.tensor(X, dtype=torch.float32)\n",
    "y_tensor = torch.tensor(y, dtype=torch.float32)\n",
    "\n",
    "train_size = int(0.8 * len(X_tensor))\n",
    "test_size = len(X_tensor) - train_size\n",
    "X_train, X_test = torch.utils.data.random_split(\n",
    "    TensorDataset(X_tensor, y_tensor), [train_size, test_size]\n",
    ")\n",
    "\n",
    "train_loader = DataLoader(X_train, batch_size=256, shuffle=True)\n",
    "test_loader = DataLoader(X_test, batch_size=256)\n",
    "\n",
    "# define the neural network\n",
    "class BlankClassifier(nn.Module):\n",
    "    def __init__(self, input_dim):\n",
    "        super(BlankClassifier, self).__init__()\n",
    "        self.model = nn.Sequential(\n",
    "            nn.Linear(input_dim, 64),  # Input to hidden layer\n",
    "            nn.ReLU(),\n",
    "            nn.Linear(64, 32),        # Hidden to hidden\n",
    "            nn.ReLU(),\n",
    "            nn.Linear(32, 1),          # Output layer\n",
    "            nn.Sigmoid()               # Binary classification\n",
    "        )\n",
    "    \n",
    "    def forward(self, x):\n",
    "        return self.model(x)\n",
    "\n",
    "# initialize the model\n",
    "input_dim = X.shape[1]  # Number of features\n",
    "model = BlankClassifier(input_dim)\n",
    "\n",
    "# loss and optimizer\n",
    "criterion = nn.BCELoss()  # Binary Cross-Entropy Loss\n",
    "optimizer = optim.Adam(model.parameters(), lr=0.1)\n",
    "\n",
    "# train the model\n",
    "epochs = 50\n",
    "for epoch in range(epochs):\n",
    "    model.train()\n",
    "    for X_batch, y_batch in train_loader:\n",
    "        optimizer.zero_grad()\n",
    "        y_pred = model(X_batch).squeeze()\n",
    "        loss = criterion(y_pred, y_batch)\n",
    "        loss.backward()\n",
    "        optimizer.step()\n",
    "    print(f\"Epoch {epoch+1}/{epochs}, Loss: {loss.item():.4f}\")\n",
    "\n",
    "# Evaluate the model\n",
    "model.eval()\n",
    "y_true = []\n",
    "y_pred = []\n",
    "\n",
    "with torch.no_grad():\n",
    "    for X_batch, y_batch in test_loader:\n",
    "        predictions = model(X_batch).squeeze()\n",
    "        y_true.extend(y_batch.numpy())\n",
    "        y_pred.extend((predictions > 0.5).numpy())\n",
    "\n",
    "from sklearn.metrics import classification_report\n",
    "print(\"Neural Network Classification Report:\")\n",
    "print(classification_report(y_true, y_pred))\n"
   ]
  },
  {
   "cell_type": "markdown",
   "metadata": {},
   "source": [
    "### E) Custom CNN"
   ]
  },
  {
   "cell_type": "code",
   "execution_count": 34,
   "metadata": {},
   "outputs": [],
   "source": [
    "import torch\n",
    "from torch.utils.data import Dataset\n",
    "import cv2\n",
    "import os\n",
    "from pathlib import Path\n",
    "\n",
    "class SudokuCellDataset(Dataset):\n",
    "    def __init__(self, data_dir, transform=None):\n",
    "        self.data_dir = Path(data_dir)\n",
    "        self.transform = transform\n",
    "        self.data = []\n",
    "        self.labels = []\n",
    "\n",
    "        # load data and labels\n",
    "        for label_dir in self.data_dir.iterdir():\n",
    "            if label_dir.is_dir():\n",
    "                label = int(label_dir.name == \"0\")  # 0 for blank, 1 for non-blank\n",
    "                for image_path in label_dir.glob(\"*.png\"):\n",
    "                    self.data.append(str(image_path))\n",
    "                    self.labels.append(label)\n",
    "\n",
    "    def __len__(self):\n",
    "        return len(self.data)\n",
    "\n",
    "    def __getitem__(self, idx):\n",
    "        # load image\n",
    "        image_path = self.data[idx]\n",
    "        image = cv2.imread(image_path, cv2.IMREAD_GRAYSCALE)\n",
    "        image = cv2.resize(image, (28, 28))\n",
    "        image = image / 255.0\n",
    "\n",
    "        # apply transforms, if any\n",
    "        if self.transform:\n",
    "            image = self.transform(image)\n",
    "\n",
    "        # convert to tensor\n",
    "        image = torch.tensor(image, dtype=torch.float32).unsqueeze(0)  # Add channel dimension\n",
    "        label = torch.tensor(self.labels[idx], dtype=torch.long)\n",
    "        return image, label\n"
   ]
  },
  {
   "cell_type": "code",
   "execution_count": 35,
   "metadata": {},
   "outputs": [],
   "source": [
    "import torch.nn as nn\n",
    "\n",
    "class CNNClassifier(nn.Module):\n",
    "    def __init__(self):\n",
    "        super(CNNClassifier, self).__init__()\n",
    "        self.model = nn.Sequential(\n",
    "            nn.Conv2d(1, 32, kernel_size=3, stride=1, padding=1),  # convolutional Layer\n",
    "            nn.ReLU(),\n",
    "            nn.MaxPool2d(kernel_size=2, stride=2),  # downsampling\n",
    "\n",
    "            nn.Conv2d(32, 64, kernel_size=3, stride=1, padding=1),\n",
    "            nn.ReLU(),\n",
    "            nn.MaxPool2d(kernel_size=2, stride=2),\n",
    "\n",
    "            nn.Flatten(),\n",
    "            nn.Linear(64 * 7 * 7, 128),  # FC Layer\n",
    "            nn.ReLU(),\n",
    "            nn.Linear(128, 2)  # Output Layer (2 classes: blank or non-blank)\n",
    "        )\n",
    "\n",
    "    def forward(self, x):\n",
    "        return self.model(x)\n"
   ]
  },
  {
   "cell_type": "code",
   "execution_count": 36,
   "metadata": {},
   "outputs": [
    {
     "name": "stdout",
     "output_type": "stream",
     "text": [
      "Epoch 1/20, Loss: 330.2279\n",
      "Epoch 2/20, Loss: 269.3371\n",
      "Epoch 3/20, Loss: 248.9331\n",
      "Epoch 4/20, Loss: 237.8925\n",
      "Epoch 5/20, Loss: 224.6183\n",
      "Epoch 6/20, Loss: 212.8314\n",
      "Epoch 7/20, Loss: 200.3093\n",
      "Epoch 8/20, Loss: 186.5698\n",
      "Epoch 9/20, Loss: 175.5726\n",
      "Epoch 10/20, Loss: 166.5482\n",
      "Epoch 11/20, Loss: 155.9694\n",
      "Epoch 12/20, Loss: 148.6769\n",
      "Epoch 13/20, Loss: 143.3112\n",
      "Epoch 14/20, Loss: 136.7876\n",
      "Epoch 15/20, Loss: 133.2443\n",
      "Epoch 16/20, Loss: 127.1187\n",
      "Epoch 17/20, Loss: 124.1999\n",
      "Epoch 18/20, Loss: 119.8782\n",
      "Epoch 19/20, Loss: 119.5383\n",
      "Epoch 20/20, Loss: 115.2368\n"
     ]
    }
   ],
   "source": [
    "import torch\n",
    "from torch.utils.data import DataLoader\n",
    "import torch.optim as optim\n",
    "\n",
    "# load dataset\n",
    "data_dir = \"../data/cells\"\n",
    "dataset = SudokuCellDataset(data_dir)\n",
    "train_size = int(0.8 * len(dataset))\n",
    "test_size = len(dataset) - train_size\n",
    "train_dataset, test_dataset = torch.utils.data.random_split(dataset, [train_size, test_size])\n",
    "\n",
    "train_loader = DataLoader(train_dataset, batch_size=32, shuffle=True)\n",
    "test_loader = DataLoader(test_dataset, batch_size=32)\n",
    "\n",
    "# initialize model, loss, and optimizer\n",
    "model = CNNClassifier()\n",
    "criterion = nn.CrossEntropyLoss()\n",
    "optimizer = optim.Adam(model.parameters(), lr=0.001)\n",
    "\n",
    "# training loop\n",
    "epochs = 20\n",
    "for epoch in range(epochs):\n",
    "    model.train()\n",
    "    total_loss = 0\n",
    "    for images, labels in train_loader:\n",
    "        optimizer.zero_grad()\n",
    "        outputs = model(images)\n",
    "        loss = criterion(outputs, labels)\n",
    "        loss.backward()\n",
    "        optimizer.step()\n",
    "        total_loss += loss.item()\n",
    "    print(f\"Epoch {epoch+1}/{epochs}, Loss: {total_loss:.4f}\")\n"
   ]
  },
  {
   "cell_type": "code",
   "execution_count": 37,
   "metadata": {},
   "outputs": [
    {
     "name": "stdout",
     "output_type": "stream",
     "text": [
      "Classification Report:\n",
      "              precision    recall  f1-score   support\n",
      "\n",
      "           0       0.97      0.90      0.93      5327\n",
      "           1       0.87      0.96      0.91      3745\n",
      "\n",
      "    accuracy                           0.92      9072\n",
      "   macro avg       0.92      0.93      0.92      9072\n",
      "weighted avg       0.93      0.92      0.92      9072\n",
      "\n"
     ]
    }
   ],
   "source": [
    "from sklearn.metrics import classification_report\n",
    "\n",
    "model.eval()\n",
    "y_true = []\n",
    "y_pred = []\n",
    "\n",
    "with torch.no_grad():\n",
    "    for images, labels in test_loader:\n",
    "        outputs = model(images)\n",
    "        _, predicted = torch.max(outputs, 1)\n",
    "        y_true.extend(labels.numpy())\n",
    "        y_pred.extend(predicted.numpy())\n",
    "\n",
    "print(\"Classification Report:\")\n",
    "print(classification_report(y_true, y_pred))\n"
   ]
  },
  {
   "cell_type": "code",
   "execution_count": 38,
   "metadata": {},
   "outputs": [],
   "source": [
    "torch.save(model, \"blank_cell_classifier.pth\")"
   ]
  },
  {
   "cell_type": "code",
   "execution_count": 39,
   "metadata": {},
   "outputs": [],
   "source": [
    "torch.save(model.state_dict(), \"blank_cell_classifier_1.pth\")"
   ]
  },
  {
   "cell_type": "code",
   "execution_count": null,
   "metadata": {},
   "outputs": [],
   "source": []
  }
 ],
 "metadata": {
  "kernelspec": {
   "display_name": "isrenv",
   "language": "python",
   "name": "python3"
  },
  "language_info": {
   "codemirror_mode": {
    "name": "ipython",
    "version": 3
   },
   "file_extension": ".py",
   "mimetype": "text/x-python",
   "name": "python",
   "nbconvert_exporter": "python",
   "pygments_lexer": "ipython3",
   "version": "3.11.6"
  }
 },
 "nbformat": 4,
 "nbformat_minor": 2
}
